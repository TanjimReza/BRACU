{
  "nbformat": 4,
  "nbformat_minor": 0,
  "metadata": {
    "colab": {
      "name": "Tanjim Reza_ID:20101065_Sec:07_Lab 8 Assignment.ipynb",
      "provenance": [],
      "collapsed_sections": [],
      "authorship_tag": "ABX9TyPoubeDpGnQT+pc56+EEcyh",
      "include_colab_link": true
    },
    "kernelspec": {
      "name": "python3",
      "display_name": "Python 3"
    }
  },
  "cells": [
    {
      "cell_type": "markdown",
      "metadata": {
        "id": "view-in-github",
        "colab_type": "text"
      },
      "source": [
        "<a href=\"https://colab.research.google.com/github/TanjimReza/BRACU/blob/CSE111/Tanjim_Reza_Lab_8_Assignment.ipynb\" target=\"_parent\"><img src=\"https://colab.research.google.com/assets/colab-badge.svg\" alt=\"Open In Colab\"/></a>"
      ]
    },
    {
      "cell_type": "code",
      "metadata": {
        "id": "skBlHtnmx0mn",
        "colab_type": "code",
        "colab": {
          "base_uri": "https://localhost:8080/",
          "height": 68
        },
        "outputId": "7b5ab044-d121-4a88-bf6c-6065eb6ddb8a"
      },
      "source": [
        "class Student:\n",
        "\tdef __init__(self, name='Just a student', dept='nothing'):\n",
        "\t\tself.__name = name\n",
        "\t\tself.__department = dept\n",
        "\tdef set_department(self, dept):\n",
        "\t\tself.__department = dept\n",
        "\tdef get_name(self):\n",
        "\t\treturn self.__name\n",
        "\tdef set_name(self,name):\n",
        "\t\tself.__name = name\n",
        "\tdef __str__(self):\n",
        "\t\treturn 'Name: '+self.__name+' Department: '+self.__department\n",
        "class BBA_Student(Student):\n",
        "\tdef __init__(self, name = \"default\"):\n",
        "\t\tsuper().__init__(name)\n",
        "\t\tsuper().set_department(\"BBA\")\n",
        "\t\t\n",
        "\n",
        "print(BBA_Student())\n",
        "print(BBA_Student('Humpty Dumpty'))\n",
        "print(BBA_Student('Little Bo Peep'))"
      ],
      "execution_count": null,
      "outputs": [
        {
          "output_type": "stream",
          "text": [
            "Name: default Department: BBA\n",
            "Name: Humpty Dumpty Department: BBA\n",
            "Name: Little Bo Peep Department: BBA\n"
          ],
          "name": "stdout"
        }
      ]
    },
    {
      "cell_type": "code",
      "metadata": {
        "id": "hICgvP3Dyjl2",
        "colab_type": "code",
        "colab": {
          "base_uri": "https://localhost:8080/",
          "height": 272
        },
        "outputId": "a7a06dec-fda1-4592-d4e7-a24001173e97"
      },
      "source": [
        "class Vehicle:\n",
        "\tdef __init__(self):\n",
        "\t\tself.x = 0\n",
        "\t\tself.y = 0\n",
        "\tdef moveUp(self):\n",
        "\t\tself.y+=1\n",
        "\tdef moveDown(self):\n",
        "\t\tself.y-=1\n",
        "\tdef moveRight(self):\n",
        "\t\tself.x+=1\n",
        "\tdef moveLeft(self):\n",
        "\t\tself.x-=1\n",
        "\tdef __str__(self):\n",
        "\t\treturn '('+str(self.x)+' , '+str(self.y)+')'\n",
        "\n",
        "class Vehicle2010(Vehicle):\n",
        "\tdef __init__(self):\n",
        "\t\tsuper().__init__()\n",
        "\n",
        "\tdef moveUpperRight(self):\n",
        "\t\tsuper().moveUp()\n",
        "\t\tsuper().moveRight()\n",
        "\tdef moveUpperLeft(self):\n",
        "\t\tsuper().moveUp()\n",
        "\t\tsuper().moveLeft()\n",
        "\tdef moveLowerRight(self):\n",
        "\t\tsuper().moveDown()\n",
        "\t\tsuper().moveRight()\n",
        "\tdef moveLowerLeft(self):\n",
        "\t\tsuper().moveDown()\n",
        "\t\tsuper().moveLeft()\n",
        "\n",
        "\tdef equals(self,f):\n",
        "\t\tif(f.x == f.y):\n",
        "\t\t\treturn True\n",
        "\t\telse:\n",
        "\t\t\treturn False\n",
        "\n",
        "print('Part 1')\n",
        "print('------')\n",
        "car = Vehicle()\n",
        "print(car)\n",
        "car.moveUp()\n",
        "print(car)\n",
        "car.moveLeft()\n",
        "print(car)\n",
        "car.moveDown()\n",
        "print(car)\n",
        "car.moveRight()\n",
        "print(car)\n",
        "print('------')\n",
        "print('Part 2')\n",
        "print('------')\n",
        "car1 = Vehicle2010()\n",
        "print(car1)\n",
        "car1.moveLowerLeft()\n",
        "print(car1)\n",
        "car2 = Vehicle2010()\n",
        "car2.moveLeft()\n",
        "print(car1.equals(car2))\n",
        "car2.moveDown()\n",
        "print(car1.equals(car2))\n",
        "print('------')"
      ],
      "execution_count": null,
      "outputs": [
        {
          "output_type": "stream",
          "text": [
            "Part 1\n",
            "------\n",
            "(0 , 0)\n",
            "(0 , 1)\n",
            "(-1 , 1)\n",
            "(-1 , 0)\n",
            "(0 , 0)\n",
            "------\n",
            "Part 2\n",
            "------\n",
            "(0 , 0)\n",
            "(-1 , -1)\n",
            "False\n",
            "True\n",
            "------\n"
          ],
          "name": "stdout"
        }
      ]
    },
    {
      "cell_type": "code",
      "metadata": {
        "id": "zQv5ViDgyn8R",
        "colab_type": "code",
        "colab": {
          "base_uri": "https://localhost:8080/",
          "height": 119
        },
        "outputId": "b3ba1bd6-0b22-49b4-be9d-324a5cdfcbd1"
      },
      "source": [
        "class RealNumber:\n",
        "\tdef __init__(self, r=0):\n",
        "\t\tself.__realValue = r\n",
        "\tdef getRealValue(self):\n",
        "\t\treturn self.__realValue\n",
        "\tdef setRealValue(self, r):\n",
        "\t\tself.__realValue = r\n",
        "\tdef ping(self):\n",
        "\t\tprint('I am in RealNumber class')\n",
        "\tdef __str__(self):\n",
        "\t\treturn 'RealPart: '+str(self.getRealValue())\n",
        "\n",
        "class ComplexNumber(RealNumber):\n",
        "\tdef __init__(self,r=1.0,i=1):\n",
        "\t\tself.i = float(i)\t\t\n",
        "\t\tsuper().__init__(float(r))\n",
        "\t\tsuper().setRealValue(float(r))\n",
        "\tdef __str__(self):\n",
        "\t\ta = super().__str__()\n",
        "\t\treturn a + \"\\n\" +\"ImaginaryPart: \"+str(float(self.i))\n",
        "\n",
        "\t\t\n",
        "cn1 = ComplexNumber()\n",
        "print(cn1)\n",
        "print('---------')\n",
        "cn2 = ComplexNumber(5,7)\n",
        "print(cn2)\n",
        "print('---------')"
      ],
      "execution_count": null,
      "outputs": [
        {
          "output_type": "stream",
          "text": [
            "RealPart: 1.0\n",
            "ImaginaryPart: 1.0\n",
            "---------\n",
            "RealPart: 5.0\n",
            "ImaginaryPart: 7.0\n",
            "---------\n"
          ],
          "name": "stdout"
        }
      ]
    },
    {
      "cell_type": "code",
      "metadata": {
        "id": "6g2eC90dysx2",
        "colab_type": "code",
        "colab": {
          "base_uri": "https://localhost:8080/",
          "height": 102
        },
        "outputId": "1e871208-2f76-446b-d025-c26939fc1ba8"
      },
      "source": [
        "class Account:\n",
        "\tdef __init__(self,balance):\n",
        "\t\tself._balance = balance\n",
        "\tdef getBalance(self):\n",
        "\t\treturn self._balance\n",
        "\n",
        "class CheckingAccount(Account):\n",
        "\tcount = 0\n",
        "\tnumberOfAccount = str(count) \n",
        "\tdef __init__(self,balance =float(0)):\n",
        "\t\tsuper().__init__(balance)\n",
        "\t\tCheckingAccount.count += 1\n",
        "\t\tCheckingAccount.numberOfAccount = str(CheckingAccount.count)\n",
        "\t\t\n",
        "\tdef __str__(self):\n",
        "\t\treturn \"Account Balance: \" + str(self._balance)\n",
        "\n",
        "print('Number of Checking Accounts: '+CheckingAccount.numberOfAccount)\n",
        "print(CheckingAccount())\n",
        "print(CheckingAccount(100.00))\n",
        "print(CheckingAccount(200.00))\n",
        "print('Number of Checking Accounts: '+CheckingAccount.numberOfAccount)"
      ],
      "execution_count": null,
      "outputs": [
        {
          "output_type": "stream",
          "text": [
            "Number of Checking Accounts: 0\n",
            "Account Balance: 0.0\n",
            "Account Balance: 100.0\n",
            "Account Balance: 200.0\n",
            "Number of Checking Accounts: 3\n"
          ],
          "name": "stdout"
        }
      ]
    },
    {
      "cell_type": "code",
      "metadata": {
        "id": "swoe-qP5y6AN",
        "colab_type": "code",
        "colab": {
          "base_uri": "https://localhost:8080/",
          "height": 68
        },
        "outputId": "380df82e-2029-4634-cef9-f485fd2866e9"
      },
      "source": [
        "class Animal:\n",
        "\tdef __init__(self,sound):\n",
        "\t\tself.__sound = sound\n",
        "\tdef makeSound(self):\n",
        "\t\treturn self.__sound\n",
        "class Printer:\n",
        "\tdef printSound(self, a):\n",
        "\t\tprint(a.makeSound())\n",
        "class Dog(Animal):\n",
        "\tdef __init__(self,sound):\n",
        "\t\tsuper().__init__(sound)\n",
        "\t\tAnimal.makeSound\n",
        "class Cat(Animal):\n",
        "\tdef __init__(self,sound):\n",
        "\t\tsuper().__init__(sound)\n",
        "\t\tAnimal.makeSound\n",
        "d1 = Dog('bark')\n",
        "c1 = Cat('meow')\n",
        "a1 = Animal('Animal does not make sound')\n",
        "pr = Printer()\n",
        "pr.printSound(a1)\n",
        "pr.printSound(c1)\n",
        "pr.printSound(d1)"
      ],
      "execution_count": null,
      "outputs": [
        {
          "output_type": "stream",
          "text": [
            "Animal does not make sound\n",
            "meow\n",
            "bark\n"
          ],
          "name": "stdout"
        }
      ]
    },
    {
      "cell_type": "code",
      "metadata": {
        "id": "6WT_rTOAy_Zx",
        "colab_type": "code",
        "colab": {
          "base_uri": "https://localhost:8080/",
          "height": 119
        },
        "outputId": "e121aa0f-a2e5-4f1c-ce1e-ed54282e6da3"
      },
      "source": [
        "class Fruit:\n",
        "\tdef __init__(self, formalin=False, name=''):\n",
        "\t\tself.__formalin = formalin\n",
        "\t\tself.name = name\n",
        "\tdef getName(self):\n",
        "\t\treturn self.name\n",
        "\tdef hasFormalin(self):\n",
        "\t\treturn self.__formalin\n",
        "class testFruit:\n",
        "\tdef test(self, f):\n",
        "\t\tprint('----Printing Detail----')\n",
        "\t\tif f.hasFormalin():\n",
        "\t\t\tprint('Do not eat the',f.getName(),'.')\n",
        "\t\t\tprint(f)\n",
        "\t\telse:\n",
        "\t\t\tprint('Eat the',f.getName(),'.')\n",
        "\t\t\tprint(f)\n",
        "\n",
        "class Mango(Fruit):\n",
        "\tdef __init__(self,formalin = True,name=\"Mango\"):\n",
        "\t\tsuper().__init__(formalin,name)\n",
        "\tdef __str__(self):\n",
        "\t\tif(self.hasFormalin() == True):\n",
        "\t\t\treturn self.name + \"s are bad for you\"\n",
        "\t\telse:\n",
        "\t\t\treturn self.name + \"s are good for you\"\n",
        "class Jackfruit(Fruit):\n",
        "\tdef __init__(self,formalin = False,name=\"Jackfruit\"):\n",
        "\t\tsuper().__init__(formalin,name)\n",
        "\n",
        "\tdef __str__(self):\n",
        "\t\tif(self.hasFormalin == True):\n",
        "\t\t\treturn self.name + \"s are bad for you\"\n",
        "\t\telse:\n",
        "\t\t\treturn self.name + \"s are good for you\"\n",
        "m = Mango()\n",
        "j = Jackfruit()\n",
        "t1 = testFruit()\n",
        "t1.test(m)\n",
        "t1.test(j)"
      ],
      "execution_count": null,
      "outputs": [
        {
          "output_type": "stream",
          "text": [
            "----Printing Detail----\n",
            "Do not eat the Mango .\n",
            "Mangos are bad for you\n",
            "----Printing Detail----\n",
            "Eat the Jackfruit .\n",
            "Jackfruits are good for you\n"
          ],
          "name": "stdout"
        }
      ]
    }
  ]
}